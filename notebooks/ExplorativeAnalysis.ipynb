{
  "cells": [
    {
      "cell_type": "code",
      "execution_count": 21,
      "outputs": [],
      "source": "import pandas as pd\nimport seaborn as sns",
      "metadata": {
        "pycharm": {
          "metadata": false,
          "name": "#%%\n",
          "is_executing": false
        }
      }
    },
    {
      "cell_type": "markdown",
      "source": "## Metadata",
      "metadata": {
        "pycharm": {
          "metadata": false,
          "name": "#%% md\n"
        }
      }
    },
    {
      "cell_type": "code",
      "source": "dfm \u003d pd.read_csv(\u0027../data/item_metadata.csv\u0027,dtype\u003d\"str\", sep\u003d\",\", encoding\u003d\"utf-8\")\ndfm_stack \u003d dfm.set_index(\u0027item_id\u0027, drop\u003dFalse, append\u003dTrue).properties.str.split(\u0027|\u0027, expand\u003dTrue).stack()\ndfm.head()",
      "metadata": {
        "pycharm": {
          "metadata": false,
          "name": "#%%\n",
          "is_executing": false
        }
      },
      "execution_count": 2,
      "outputs": [
        {
          "data": {
            "text/plain": "  item_id                                         properties\n0    5101  Satellite TV|Golf Course|Airport Shuttle|Cosme...\n1    5416  Satellite TV|Cosmetic Mirror|Safe (Hotel)|Tele...\n2    5834  Satellite TV|Cosmetic Mirror|Safe (Hotel)|Tele...\n3    5910  Satellite TV|Sailing|Cosmetic Mirror|Telephone...\n4    6066  Satellite TV|Sailing|Diving|Cosmetic Mirror|Sa...",
            "text/html": "\u003cdiv\u003e\n\u003cstyle scoped\u003e\n    .dataframe tbody tr th:only-of-type {\n        vertical-align: middle;\n    }\n\n    .dataframe tbody tr th {\n        vertical-align: top;\n    }\n\n    .dataframe thead th {\n        text-align: right;\n    }\n\u003c/style\u003e\n\u003ctable border\u003d\"1\" class\u003d\"dataframe\"\u003e\n  \u003cthead\u003e\n    \u003ctr style\u003d\"text-align: right;\"\u003e\n      \u003cth\u003e\u003c/th\u003e\n      \u003cth\u003eitem_id\u003c/th\u003e\n      \u003cth\u003eproperties\u003c/th\u003e\n    \u003c/tr\u003e\n  \u003c/thead\u003e\n  \u003ctbody\u003e\n    \u003ctr\u003e\n      \u003cth\u003e0\u003c/th\u003e\n      \u003ctd\u003e5101\u003c/td\u003e\n      \u003ctd\u003eSatellite TV|Golf Course|Airport Shuttle|Cosme...\u003c/td\u003e\n    \u003c/tr\u003e\n    \u003ctr\u003e\n      \u003cth\u003e1\u003c/th\u003e\n      \u003ctd\u003e5416\u003c/td\u003e\n      \u003ctd\u003eSatellite TV|Cosmetic Mirror|Safe (Hotel)|Tele...\u003c/td\u003e\n    \u003c/tr\u003e\n    \u003ctr\u003e\n      \u003cth\u003e2\u003c/th\u003e\n      \u003ctd\u003e5834\u003c/td\u003e\n      \u003ctd\u003eSatellite TV|Cosmetic Mirror|Safe (Hotel)|Tele...\u003c/td\u003e\n    \u003c/tr\u003e\n    \u003ctr\u003e\n      \u003cth\u003e3\u003c/th\u003e\n      \u003ctd\u003e5910\u003c/td\u003e\n      \u003ctd\u003eSatellite TV|Sailing|Cosmetic Mirror|Telephone...\u003c/td\u003e\n    \u003c/tr\u003e\n    \u003ctr\u003e\n      \u003cth\u003e4\u003c/th\u003e\n      \u003ctd\u003e6066\u003c/td\u003e\n      \u003ctd\u003eSatellite TV|Sailing|Diving|Cosmetic Mirror|Sa...\u003c/td\u003e\n    \u003c/tr\u003e\n  \u003c/tbody\u003e\n\u003c/table\u003e\n\u003c/div\u003e"
          },
          "metadata": {},
          "output_type": "execute_result",
          "execution_count": 2
        }
      ]
    },
    {
      "cell_type": "code",
      "execution_count": 3,
      "outputs": [
        {
          "data": {
            "text/plain": "   item_id   \n0  5101     0       Satellite TV\n            1        Golf Course\n            2    Airport Shuttle\n            3    Cosmetic Mirror\n            4       Safe (Hotel)\ndtype: object"
          },
          "metadata": {},
          "output_type": "execute_result",
          "execution_count": 3
        }
      ],
      "source": "dfm_stack.head()",
      "metadata": {
        "pycharm": {
          "metadata": false,
          "name": "#%%\n",
          "is_executing": false
        }
      }
    },
    {
      "cell_type": "code",
      "execution_count": 4,
      "outputs": [
        {
          "data": {
            "text/plain": "         1 Star  2 Star  3 Star  4 Star  5 Star  Accessible Hotel  \\\nitem_id                                                             \n5101          0       0       0       1       0                 1   \n5416          0       0       0       1       0                 0   \n5834          0       0       1       0       0                 0   \n5910          0       0       0       1       0                 0   \n6066          0       0       0       1       0                 1   \n\n         Accessible Parking  Adults Only  Air Conditioning  Airport Hotel  \\\nitem_id                                                                     \n5101                      1            0                 1              0   \n5416                      0            0                 0              0   \n5834                      0            0                 0              0   \n5910                      0            0                 0              0   \n6066                      1            0                 0              0   \n\n         ...  Terrace (Hotel)  Theme Hotel  Towels  Very Good Rating  \\\nitem_id  ...                                                           \n5101     ...                1            0       0                 0   \n5416     ...                1            0       0                 1   \n5834     ...                1            0       0                 1   \n5910     ...                1            0       0                 0   \n6066     ...                1            0       1                 0   \n\n         Volleyball  Washing Machine  Water Slide  Wheelchair Accessible  \\\nitem_id                                                                    \n5101              0                0            0                      0   \n5416              0                0            0                      1   \n5834              0                0            0                      0   \n5910              0                0            0                      0   \n6066              1                0            0                      1   \n\n         WiFi (Public Areas)  WiFi (Rooms)  \nitem_id                                     \n5101                       1             1  \n5416                       1             1  \n5834                       1             1  \n5910                       1             0  \n6066                       1             1  \n\n[5 rows x 157 columns]",
            "text/html": "\u003cdiv\u003e\n\u003cstyle scoped\u003e\n    .dataframe tbody tr th:only-of-type {\n        vertical-align: middle;\n    }\n\n    .dataframe tbody tr th {\n        vertical-align: top;\n    }\n\n    .dataframe thead th {\n        text-align: right;\n    }\n\u003c/style\u003e\n\u003ctable border\u003d\"1\" class\u003d\"dataframe\"\u003e\n  \u003cthead\u003e\n    \u003ctr style\u003d\"text-align: right;\"\u003e\n      \u003cth\u003e\u003c/th\u003e\n      \u003cth\u003e1 Star\u003c/th\u003e\n      \u003cth\u003e2 Star\u003c/th\u003e\n      \u003cth\u003e3 Star\u003c/th\u003e\n      \u003cth\u003e4 Star\u003c/th\u003e\n      \u003cth\u003e5 Star\u003c/th\u003e\n      \u003cth\u003eAccessible Hotel\u003c/th\u003e\n      \u003cth\u003eAccessible Parking\u003c/th\u003e\n      \u003cth\u003eAdults Only\u003c/th\u003e\n      \u003cth\u003eAir Conditioning\u003c/th\u003e\n      \u003cth\u003eAirport Hotel\u003c/th\u003e\n      \u003cth\u003e...\u003c/th\u003e\n      \u003cth\u003eTerrace (Hotel)\u003c/th\u003e\n      \u003cth\u003eTheme Hotel\u003c/th\u003e\n      \u003cth\u003eTowels\u003c/th\u003e\n      \u003cth\u003eVery Good Rating\u003c/th\u003e\n      \u003cth\u003eVolleyball\u003c/th\u003e\n      \u003cth\u003eWashing Machine\u003c/th\u003e\n      \u003cth\u003eWater Slide\u003c/th\u003e\n      \u003cth\u003eWheelchair Accessible\u003c/th\u003e\n      \u003cth\u003eWiFi (Public Areas)\u003c/th\u003e\n      \u003cth\u003eWiFi (Rooms)\u003c/th\u003e\n    \u003c/tr\u003e\n    \u003ctr\u003e\n      \u003cth\u003eitem_id\u003c/th\u003e\n      \u003cth\u003e\u003c/th\u003e\n      \u003cth\u003e\u003c/th\u003e\n      \u003cth\u003e\u003c/th\u003e\n      \u003cth\u003e\u003c/th\u003e\n      \u003cth\u003e\u003c/th\u003e\n      \u003cth\u003e\u003c/th\u003e\n      \u003cth\u003e\u003c/th\u003e\n      \u003cth\u003e\u003c/th\u003e\n      \u003cth\u003e\u003c/th\u003e\n      \u003cth\u003e\u003c/th\u003e\n      \u003cth\u003e\u003c/th\u003e\n      \u003cth\u003e\u003c/th\u003e\n      \u003cth\u003e\u003c/th\u003e\n      \u003cth\u003e\u003c/th\u003e\n      \u003cth\u003e\u003c/th\u003e\n      \u003cth\u003e\u003c/th\u003e\n      \u003cth\u003e\u003c/th\u003e\n      \u003cth\u003e\u003c/th\u003e\n      \u003cth\u003e\u003c/th\u003e\n      \u003cth\u003e\u003c/th\u003e\n      \u003cth\u003e\u003c/th\u003e\n    \u003c/tr\u003e\n  \u003c/thead\u003e\n  \u003ctbody\u003e\n    \u003ctr\u003e\n      \u003cth\u003e5101\u003c/th\u003e\n      \u003ctd\u003e0\u003c/td\u003e\n      \u003ctd\u003e0\u003c/td\u003e\n      \u003ctd\u003e0\u003c/td\u003e\n      \u003ctd\u003e1\u003c/td\u003e\n      \u003ctd\u003e0\u003c/td\u003e\n      \u003ctd\u003e1\u003c/td\u003e\n      \u003ctd\u003e1\u003c/td\u003e\n      \u003ctd\u003e0\u003c/td\u003e\n      \u003ctd\u003e1\u003c/td\u003e\n      \u003ctd\u003e0\u003c/td\u003e\n      \u003ctd\u003e...\u003c/td\u003e\n      \u003ctd\u003e1\u003c/td\u003e\n      \u003ctd\u003e0\u003c/td\u003e\n      \u003ctd\u003e0\u003c/td\u003e\n      \u003ctd\u003e0\u003c/td\u003e\n      \u003ctd\u003e0\u003c/td\u003e\n      \u003ctd\u003e0\u003c/td\u003e\n      \u003ctd\u003e0\u003c/td\u003e\n      \u003ctd\u003e0\u003c/td\u003e\n      \u003ctd\u003e1\u003c/td\u003e\n      \u003ctd\u003e1\u003c/td\u003e\n    \u003c/tr\u003e\n    \u003ctr\u003e\n      \u003cth\u003e5416\u003c/th\u003e\n      \u003ctd\u003e0\u003c/td\u003e\n      \u003ctd\u003e0\u003c/td\u003e\n      \u003ctd\u003e0\u003c/td\u003e\n      \u003ctd\u003e1\u003c/td\u003e\n      \u003ctd\u003e0\u003c/td\u003e\n      \u003ctd\u003e0\u003c/td\u003e\n      \u003ctd\u003e0\u003c/td\u003e\n      \u003ctd\u003e0\u003c/td\u003e\n      \u003ctd\u003e0\u003c/td\u003e\n      \u003ctd\u003e0\u003c/td\u003e\n      \u003ctd\u003e...\u003c/td\u003e\n      \u003ctd\u003e1\u003c/td\u003e\n      \u003ctd\u003e0\u003c/td\u003e\n      \u003ctd\u003e0\u003c/td\u003e\n      \u003ctd\u003e1\u003c/td\u003e\n      \u003ctd\u003e0\u003c/td\u003e\n      \u003ctd\u003e0\u003c/td\u003e\n      \u003ctd\u003e0\u003c/td\u003e\n      \u003ctd\u003e1\u003c/td\u003e\n      \u003ctd\u003e1\u003c/td\u003e\n      \u003ctd\u003e1\u003c/td\u003e\n    \u003c/tr\u003e\n    \u003ctr\u003e\n      \u003cth\u003e5834\u003c/th\u003e\n      \u003ctd\u003e0\u003c/td\u003e\n      \u003ctd\u003e0\u003c/td\u003e\n      \u003ctd\u003e1\u003c/td\u003e\n      \u003ctd\u003e0\u003c/td\u003e\n      \u003ctd\u003e0\u003c/td\u003e\n      \u003ctd\u003e0\u003c/td\u003e\n      \u003ctd\u003e0\u003c/td\u003e\n      \u003ctd\u003e0\u003c/td\u003e\n      \u003ctd\u003e0\u003c/td\u003e\n      \u003ctd\u003e0\u003c/td\u003e\n      \u003ctd\u003e...\u003c/td\u003e\n      \u003ctd\u003e1\u003c/td\u003e\n      \u003ctd\u003e0\u003c/td\u003e\n      \u003ctd\u003e0\u003c/td\u003e\n      \u003ctd\u003e1\u003c/td\u003e\n      \u003ctd\u003e0\u003c/td\u003e\n      \u003ctd\u003e0\u003c/td\u003e\n      \u003ctd\u003e0\u003c/td\u003e\n      \u003ctd\u003e0\u003c/td\u003e\n      \u003ctd\u003e1\u003c/td\u003e\n      \u003ctd\u003e1\u003c/td\u003e\n    \u003c/tr\u003e\n    \u003ctr\u003e\n      \u003cth\u003e5910\u003c/th\u003e\n      \u003ctd\u003e0\u003c/td\u003e\n      \u003ctd\u003e0\u003c/td\u003e\n      \u003ctd\u003e0\u003c/td\u003e\n      \u003ctd\u003e1\u003c/td\u003e\n      \u003ctd\u003e0\u003c/td\u003e\n      \u003ctd\u003e0\u003c/td\u003e\n      \u003ctd\u003e0\u003c/td\u003e\n      \u003ctd\u003e0\u003c/td\u003e\n      \u003ctd\u003e0\u003c/td\u003e\n      \u003ctd\u003e0\u003c/td\u003e\n      \u003ctd\u003e...\u003c/td\u003e\n      \u003ctd\u003e1\u003c/td\u003e\n      \u003ctd\u003e0\u003c/td\u003e\n      \u003ctd\u003e0\u003c/td\u003e\n      \u003ctd\u003e0\u003c/td\u003e\n      \u003ctd\u003e0\u003c/td\u003e\n      \u003ctd\u003e0\u003c/td\u003e\n      \u003ctd\u003e0\u003c/td\u003e\n      \u003ctd\u003e0\u003c/td\u003e\n      \u003ctd\u003e1\u003c/td\u003e\n      \u003ctd\u003e0\u003c/td\u003e\n    \u003c/tr\u003e\n    \u003ctr\u003e\n      \u003cth\u003e6066\u003c/th\u003e\n      \u003ctd\u003e0\u003c/td\u003e\n      \u003ctd\u003e0\u003c/td\u003e\n      \u003ctd\u003e0\u003c/td\u003e\n      \u003ctd\u003e1\u003c/td\u003e\n      \u003ctd\u003e0\u003c/td\u003e\n      \u003ctd\u003e1\u003c/td\u003e\n      \u003ctd\u003e1\u003c/td\u003e\n      \u003ctd\u003e0\u003c/td\u003e\n      \u003ctd\u003e0\u003c/td\u003e\n      \u003ctd\u003e0\u003c/td\u003e\n      \u003ctd\u003e...\u003c/td\u003e\n      \u003ctd\u003e1\u003c/td\u003e\n      \u003ctd\u003e0\u003c/td\u003e\n      \u003ctd\u003e1\u003c/td\u003e\n      \u003ctd\u003e0\u003c/td\u003e\n      \u003ctd\u003e1\u003c/td\u003e\n      \u003ctd\u003e0\u003c/td\u003e\n      \u003ctd\u003e0\u003c/td\u003e\n      \u003ctd\u003e1\u003c/td\u003e\n      \u003ctd\u003e1\u003c/td\u003e\n      \u003ctd\u003e1\u003c/td\u003e\n    \u003c/tr\u003e\n  \u003c/tbody\u003e\n\u003c/table\u003e\n\u003cp\u003e5 rows × 157 columns\u003c/p\u003e\n\u003c/div\u003e"
          },
          "metadata": {},
          "output_type": "execute_result",
          "execution_count": 4
        }
      ],
      "source": "dfm_sparse \u003d pd.get_dummies(dfm_stack, prefix\u003dNone, prefix_sep\u003dNone).groupby(level\u003d1, sort\u003dFalse).agg(max)\ndfm_sparse.head()",
      "metadata": {
        "pycharm": {
          "metadata": false,
          "name": "#%%\n",
          "is_executing": false
        }
      }
    },
    {
      "cell_type": "code",
      "execution_count": 5,
      "outputs": [
        {
          "name": "stdout",
          "text": [
            "1 Star\n2 Star\n3 Star\n4 Star\n5 Star\nAccessible Hotel\nAccessible Parking\nAdults Only\nAir Conditioning\nAirport Hotel\nAirport Shuttle\nAll Inclusive (Upon Inquiry)\nBalcony\nBathtub\nBeach\nBeach Bar\nBeauty Salon\nBed \u0026 Breakfast\nBike Rental\nBoat Rental\nBody Treatments\nBoutique Hotel\nBowling\nBungalows\nBusiness Centre\nBusiness Hotel\nCable TV\nCamping Site\nCar Park\nCasa Rural (ES)\nCasino (Hotel)\nCentral Heating\nChildcare\nClub Hotel\nComputer with Internet\nConcierge\nConference Rooms\nConvenience Store\nConvention Hotel\nCosmetic Mirror\nCot\nCountry Hotel\nDeck Chairs\nDesign Hotel\nDesk\nDirect beach access\nDiving\nDoctor On-Site\nEco-Friendly hotel\nElectric Kettle\nExcellent Rating\nExpress Check-In / Check-Out\nFamily Friendly\nFan\nFarmstay\nFitness\nFlatscreen TV\nFree WiFi (Combined)\nFree WiFi (Public Areas)\nFree WiFi (Rooms)\nFridge\nFrom 2 Stars\nFrom 3 Stars\nFrom 4 Stars\nGay-friendly\nGolf Course\nGood Rating\nGuest House\nGym\nHairdresser\nHairdryer\nHalal Food\nHammam\nHealth Retreat\nHiking Trail\nHoneymoon\nHorse Riding\nHostal (ES)\nHostel\nHot Stone Massage\nHotel\nHotel Bar\nHouse / Apartment\nHydrotherapy\nHypoallergenic Bedding\nHypoallergenic Rooms\nIroning Board\nJacuzzi (Hotel)\nKids\u0027 Club\nKosher Food\nLarge Groups\nLaundry Service\nLift\nLuxury Hotel\nMassage\nMicrowave\nMinigolf\nMotel\nNightclub\nNon-Smoking Rooms\nOn-Site Boutique Shopping\nOpenable Windows\nOrganised Activities\nPet Friendly\nPlayground\nPool Table\nPorter\nPousada (BR)\nRadio\nReception (24/7)\nResort\nRestaurant\nRomantic\nRoom Service\nRoom Service (24/7)\nSafe (Hotel)\nSafe (Rooms)\nSailing\nSatellite TV\nSatisfactory Rating\nSauna\nSelf Catering\nSenior Travellers\nServiced Apartment\nShooting Sports\nShower\nSingles\nSitting Area (Rooms)\nSki Resort\nSkiing\nSolarium\nSpa (Wellness Facility)\nSpa Hotel\nSteam Room\nSun Umbrellas\nSurfing\nSwimming Pool (Bar)\nSwimming Pool (Combined Filter)\nSwimming Pool (Indoor)\nSwimming Pool (Outdoor)\nSzep Kartya\nTable Tennis\nTelephone\nTeleprinter\nTelevision\nTennis Court\nTennis Court (Indoor)\nTerrace (Hotel)\nTheme Hotel\nTowels\nVery Good Rating\nVolleyball\nWashing Machine\nWater Slide\nWheelchair Accessible\nWiFi (Public Areas)\nWiFi (Rooms)\n"
          ],
          "output_type": "stream"
        }
      ],
      "source": "for s in dfm_sparse.columns:\n    print(s)",
      "metadata": {
        "pycharm": {
          "metadata": false,
          "name": "#%%\n",
          "is_executing": false
        }
      }
    },
    {
      "cell_type": "markdown",
      "source": "## Sessions",
      "metadata": {
        "pycharm": {
          "metadata": false,
          "name": "#%% md\n"
        }
      }
    },
    {
      "cell_type": "code",
      "execution_count": 6,
      "outputs": [],
      "source": "df_train \u003d pd.read_csv(\u0027../data/train.csv\u0027, sep\u003d\",\", encoding\u003d\"utf-8\")",
      "metadata": {
        "pycharm": {
          "metadata": false,
          "name": "#%%\n",
          "is_executing": false
        }
      }
    },
    {
      "cell_type": "code",
      "execution_count": 15,
      "outputs": [],
      "source": "df_train[\u0027user_session\u0027] \u003d df_train[\u0027user_id\u0027] + df_train[\u0027session_id\u0027]",
      "metadata": {
        "pycharm": {
          "metadata": false,
          "name": "#%%\n",
          "is_executing": false
        }
      }
    },
    {
      "cell_type": "code",
      "execution_count": 16,
      "outputs": [
        {
          "name": "stdout",
          "text": [
            "Number of entries:  15932992\n",
            "Number of different users:  730803\n",
            "Number of different sessions:  910683\n"
          ],
          "output_type": "stream"
        }
      ],
      "source": "print(\u0027Number of entries: \u0027, len(df_train))\nprint(\u0027Number of different users: \u0027, len(df_train.user_id.unique()))\nprint(\u0027Number of different sessions: \u0027, len(df_train.user_session.unique()))\n",
      "metadata": {
        "pycharm": {
          "metadata": false,
          "name": "#%%\n",
          "is_executing": false
        }
      }
    },
    {
      "cell_type": "code",
      "execution_count": 25,
      "outputs": [
        {
          "data": {
            "text/plain": "          session_id\ncount  730803.000000\nmean        1.246140\nstd         0.750184\nmin         1.000000\n25%         1.000000\n50%         1.000000\n75%         1.000000\nmax       201.000000",
            "text/html": "\u003cdiv\u003e\n\u003cstyle scoped\u003e\n    .dataframe tbody tr th:only-of-type {\n        vertical-align: middle;\n    }\n\n    .dataframe tbody tr th {\n        vertical-align: top;\n    }\n\n    .dataframe thead th {\n        text-align: right;\n    }\n\u003c/style\u003e\n\u003ctable border\u003d\"1\" class\u003d\"dataframe\"\u003e\n  \u003cthead\u003e\n    \u003ctr style\u003d\"text-align: right;\"\u003e\n      \u003cth\u003e\u003c/th\u003e\n      \u003cth\u003esession_id\u003c/th\u003e\n    \u003c/tr\u003e\n  \u003c/thead\u003e\n  \u003ctbody\u003e\n    \u003ctr\u003e\n      \u003cth\u003ecount\u003c/th\u003e\n      \u003ctd\u003e730803.000000\u003c/td\u003e\n    \u003c/tr\u003e\n    \u003ctr\u003e\n      \u003cth\u003emean\u003c/th\u003e\n      \u003ctd\u003e1.246140\u003c/td\u003e\n    \u003c/tr\u003e\n    \u003ctr\u003e\n      \u003cth\u003estd\u003c/th\u003e\n      \u003ctd\u003e0.750184\u003c/td\u003e\n    \u003c/tr\u003e\n    \u003ctr\u003e\n      \u003cth\u003emin\u003c/th\u003e\n      \u003ctd\u003e1.000000\u003c/td\u003e\n    \u003c/tr\u003e\n    \u003ctr\u003e\n      \u003cth\u003e25%\u003c/th\u003e\n      \u003ctd\u003e1.000000\u003c/td\u003e\n    \u003c/tr\u003e\n    \u003ctr\u003e\n      \u003cth\u003e50%\u003c/th\u003e\n      \u003ctd\u003e1.000000\u003c/td\u003e\n    \u003c/tr\u003e\n    \u003ctr\u003e\n      \u003cth\u003e75%\u003c/th\u003e\n      \u003ctd\u003e1.000000\u003c/td\u003e\n    \u003c/tr\u003e\n    \u003ctr\u003e\n      \u003cth\u003emax\u003c/th\u003e\n      \u003ctd\u003e201.000000\u003c/td\u003e\n    \u003c/tr\u003e\n  \u003c/tbody\u003e\n\u003c/table\u003e\n\u003c/div\u003e"
          },
          "metadata": {},
          "output_type": "execute_result",
          "execution_count": 25
        },
        {
          "data": {
            "text/plain": "\u003cFigure size 432x288 with 1 Axes\u003e",
            "image/png": "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\u003d\u003d\n"
          },
          "metadata": {
            "needs_background": "light"
          },
          "output_type": "display_data"
        }
      ],
      "source": "df_number_sessions_per_user \u003d df_train[[\u0027user_id\u0027, \u0027session_id\u0027]].drop_duplicates().pivot_table(index\u003d[\u0027user_id\u0027], aggfunc\u003d\u0027count\u0027)\ng \u003d sns.countplot(y\u003d\u0027session_id\u0027, data\u003ddf_number_sessions_per_user)\ng.set_xscale(\u0027log\u0027)\ndf_number_sessions_per_user.describe()",
      "metadata": {
        "pycharm": {
          "metadata": false,
          "name": "#%%\n",
          "is_executing": false
        }
      }
    },
    {
      "cell_type": "code",
      "execution_count": 23,
      "outputs": [
        {
          "data": {
            "text/plain": "          session_id\ncount  730803.000000\nmean        1.246140\nstd         0.750184\nmin         1.000000\n25%         1.000000\n50%         1.000000\n75%         1.000000\nmax       201.000000",
            "text/html": "\u003cdiv\u003e\n\u003cstyle scoped\u003e\n    .dataframe tbody tr th:only-of-type {\n        vertical-align: middle;\n    }\n\n    .dataframe tbody tr th {\n        vertical-align: top;\n    }\n\n    .dataframe thead th {\n        text-align: right;\n    }\n\u003c/style\u003e\n\u003ctable border\u003d\"1\" class\u003d\"dataframe\"\u003e\n  \u003cthead\u003e\n    \u003ctr style\u003d\"text-align: right;\"\u003e\n      \u003cth\u003e\u003c/th\u003e\n      \u003cth\u003esession_id\u003c/th\u003e\n    \u003c/tr\u003e\n  \u003c/thead\u003e\n  \u003ctbody\u003e\n    \u003ctr\u003e\n      \u003cth\u003ecount\u003c/th\u003e\n      \u003ctd\u003e730803.000000\u003c/td\u003e\n    \u003c/tr\u003e\n    \u003ctr\u003e\n      \u003cth\u003emean\u003c/th\u003e\n      \u003ctd\u003e1.246140\u003c/td\u003e\n    \u003c/tr\u003e\n    \u003ctr\u003e\n      \u003cth\u003estd\u003c/th\u003e\n      \u003ctd\u003e0.750184\u003c/td\u003e\n    \u003c/tr\u003e\n    \u003ctr\u003e\n      \u003cth\u003emin\u003c/th\u003e\n      \u003ctd\u003e1.000000\u003c/td\u003e\n    \u003c/tr\u003e\n    \u003ctr\u003e\n      \u003cth\u003e25%\u003c/th\u003e\n      \u003ctd\u003e1.000000\u003c/td\u003e\n    \u003c/tr\u003e\n    \u003ctr\u003e\n      \u003cth\u003e50%\u003c/th\u003e\n      \u003ctd\u003e1.000000\u003c/td\u003e\n    \u003c/tr\u003e\n    \u003ctr\u003e\n      \u003cth\u003e75%\u003c/th\u003e\n      \u003ctd\u003e1.000000\u003c/td\u003e\n    \u003c/tr\u003e\n    \u003ctr\u003e\n      \u003cth\u003emax\u003c/th\u003e\n      \u003ctd\u003e201.000000\u003c/td\u003e\n    \u003c/tr\u003e\n  \u003c/tbody\u003e\n\u003c/table\u003e\n\u003c/div\u003e"
          },
          "metadata": {},
          "output_type": "execute_result",
          "execution_count": 23
        }
      ],
      "source": "\n\n",
      "metadata": {
        "pycharm": {
          "metadata": false,
          "name": "#%%\n",
          "is_executing": false
        }
      }
    }
  ],
  "metadata": {
    "language_info": {
      "codemirror_mode": {
        "name": "ipython",
        "version": 2
      },
      "file_extension": ".py",
      "mimetype": "text/x-python",
      "name": "python",
      "nbconvert_exporter": "python",
      "pygments_lexer": "ipython2",
      "version": "2.7.6"
    },
    "kernelspec": {
      "name": "python3",
      "language": "python",
      "display_name": "Python 3"
    },
    "stem_cell": {
      "cell_type": "raw",
      "source": "",
      "metadata": {
        "pycharm": {
          "metadata": false
        }
      }
    }
  },
  "nbformat": 4,
  "nbformat_minor": 0
}