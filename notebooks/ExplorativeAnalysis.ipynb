{
  "cells": [
    {
      "cell_type": "code",
      "execution_count": 2,
      "outputs": [],
      "source": "import pandas as pd",
      "metadata": {
        "pycharm": {
          "metadata": false,
          "name": "#%%\n",
          "is_executing": false
        }
      }
    },
    {
      "cell_type": "markdown",
      "source": "## Metadata",
      "metadata": {
        "pycharm": {
          "metadata": false,
          "name": "#%% md\n"
        }
      }
    },
    {
      "cell_type": "code",
      "source": "dfm \u003d pd.read_csv(\u0027../data/item_metadata.csv\u0027,dtype\u003d\"str\", sep\u003d\",\", encoding\u003d\"utf-8\")\ndfm_stack \u003d dfm.set_index(\u0027item_id\u0027, drop\u003dFalse, append\u003dTrue).properties.str.split(\u0027|\u0027, expand\u003dTrue).stack()\ndfm.head()",
      "metadata": {
        "pycharm": {
          "metadata": false,
          "name": "#%%\n",
          "is_executing": false
        }
      },
      "execution_count": 18,
      "outputs": [
        {
          "data": {
            "text/plain": "  item_id                                         properties\n0    5101  Satellite TV|Golf Course|Airport Shuttle|Cosme...\n1    5416  Satellite TV|Cosmetic Mirror|Safe (Hotel)|Tele...\n2    5834  Satellite TV|Cosmetic Mirror|Safe (Hotel)|Tele...\n3    5910  Satellite TV|Sailing|Cosmetic Mirror|Telephone...\n4    6066  Satellite TV|Sailing|Diving|Cosmetic Mirror|Sa...",
            "text/html": "\u003cdiv\u003e\n\u003cstyle scoped\u003e\n    .dataframe tbody tr th:only-of-type {\n        vertical-align: middle;\n    }\n\n    .dataframe tbody tr th {\n        vertical-align: top;\n    }\n\n    .dataframe thead th {\n        text-align: right;\n    }\n\u003c/style\u003e\n\u003ctable border\u003d\"1\" class\u003d\"dataframe\"\u003e\n  \u003cthead\u003e\n    \u003ctr style\u003d\"text-align: right;\"\u003e\n      \u003cth\u003e\u003c/th\u003e\n      \u003cth\u003eitem_id\u003c/th\u003e\n      \u003cth\u003eproperties\u003c/th\u003e\n    \u003c/tr\u003e\n  \u003c/thead\u003e\n  \u003ctbody\u003e\n    \u003ctr\u003e\n      \u003cth\u003e0\u003c/th\u003e\n      \u003ctd\u003e5101\u003c/td\u003e\n      \u003ctd\u003eSatellite TV|Golf Course|Airport Shuttle|Cosme...\u003c/td\u003e\n    \u003c/tr\u003e\n    \u003ctr\u003e\n      \u003cth\u003e1\u003c/th\u003e\n      \u003ctd\u003e5416\u003c/td\u003e\n      \u003ctd\u003eSatellite TV|Cosmetic Mirror|Safe (Hotel)|Tele...\u003c/td\u003e\n    \u003c/tr\u003e\n    \u003ctr\u003e\n      \u003cth\u003e2\u003c/th\u003e\n      \u003ctd\u003e5834\u003c/td\u003e\n      \u003ctd\u003eSatellite TV|Cosmetic Mirror|Safe (Hotel)|Tele...\u003c/td\u003e\n    \u003c/tr\u003e\n    \u003ctr\u003e\n      \u003cth\u003e3\u003c/th\u003e\n      \u003ctd\u003e5910\u003c/td\u003e\n      \u003ctd\u003eSatellite TV|Sailing|Cosmetic Mirror|Telephone...\u003c/td\u003e\n    \u003c/tr\u003e\n    \u003ctr\u003e\n      \u003cth\u003e4\u003c/th\u003e\n      \u003ctd\u003e6066\u003c/td\u003e\n      \u003ctd\u003eSatellite TV|Sailing|Diving|Cosmetic Mirror|Sa...\u003c/td\u003e\n    \u003c/tr\u003e\n  \u003c/tbody\u003e\n\u003c/table\u003e\n\u003c/div\u003e"
          },
          "metadata": {},
          "output_type": "execute_result",
          "execution_count": 18
        }
      ]
    },
    {
      "cell_type": "code",
      "execution_count": 19,
      "outputs": [
        {
          "data": {
            "text/plain": "   item_id   \n0  5101     0       Satellite TV\n            1        Golf Course\n            2    Airport Shuttle\n            3    Cosmetic Mirror\n            4       Safe (Hotel)\ndtype: object"
          },
          "metadata": {},
          "output_type": "execute_result",
          "execution_count": 19
        }
      ],
      "source": "dfm_stack.head()",
      "metadata": {
        "pycharm": {
          "metadata": false,
          "name": "#%%\n",
          "is_executing": false
        }
      }
    },
    {
      "cell_type": "code",
      "execution_count": null,
      "outputs": [],
      "source": "dfm_sparse \u003d pd.get_dummies(dfm_stack, prefix\u003dNone, prefix_sep\u003dNone).groupby(level\u003d1, sort\u003dFalse).agg(max)\ndfm_sparse.head()",
      "metadata": {
        "pycharm": {
          "metadata": false,
          "name": "#%%\n",
          "is_executing": true
        }
      }
    },
    {
      "cell_type": "code",
      "execution_count": null,
      "outputs": [],
      "source": "\nfor s in dfm_sparse.columns:\n    print(s)",
      "metadata": {
        "pycharm": {
          "metadata": false,
          "name": "#%%\n",
          "is_executing": true
        }
      }
    },
    {
      "cell_type": "code",
      "execution_count": null,
      "outputs": [],
      "source": "\n",
      "metadata": {
        "pycharm": {
          "metadata": false,
          "name": "#%%\n"
        }
      }
    }
  ],
  "metadata": {
    "language_info": {
      "codemirror_mode": {
        "name": "ipython",
        "version": 2
      },
      "file_extension": ".py",
      "mimetype": "text/x-python",
      "name": "python",
      "nbconvert_exporter": "python",
      "pygments_lexer": "ipython2",
      "version": "2.7.6"
    },
    "kernelspec": {
      "name": "python3",
      "language": "python",
      "display_name": "Python 3"
    },
    "stem_cell": {
      "cell_type": "raw",
      "source": "",
      "metadata": {
        "pycharm": {
          "metadata": false
        }
      }
    }
  },
  "nbformat": 4,
  "nbformat_minor": 0
}